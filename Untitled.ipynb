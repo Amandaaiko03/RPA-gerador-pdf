{
 "cells": [
  {
   "cell_type": "markdown",
   "id": "e2c9e354",
   "metadata": {},
   "source": [
    "# Entrada de dados e armazenando os dados em variaveis "
   ]
  },
  {
   "cell_type": "code",
   "execution_count": 1,
   "id": "b1100b70",
   "metadata": {},
   "outputs": [
    {
     "name": "stdout",
     "output_type": "stream",
     "text": [
      "Digite o nome do projeto: Amanda\n",
      "Digite a quantidade de horas previstas: 10\n",
      "Digite o valor da hora trabalhada: 12\n",
      "Digite o prazo de entrega: 3\n"
     ]
    }
   ],
   "source": [
    "projeto = input (\"Digite o nome do projeto: \")\n",
    "horas_previstas = input (\"Digite a quantidade de horas previstas: \")\n",
    "valor_horas_trabalhadas = input (\"Digite o valor da hora trabalhada: \")\n",
    "prazo = input (\"Digite o prazo de entrega: \")"
   ]
  },
  {
   "cell_type": "markdown",
   "id": "09f21fee",
   "metadata": {},
   "source": [
    "Calculando valor total "
   ]
  },
  {
   "cell_type": "code",
   "execution_count": 3,
   "id": "eb1e5d94",
   "metadata": {
    "scrolled": true
   },
   "outputs": [
    {
     "name": "stdout",
     "output_type": "stream",
     "text": [
      "120\n"
     ]
    }
   ],
   "source": [
    "valor_total = int (horas_previstas) * int(valor_horas_trabalhadas)\n",
    "print (valor_total)"
   ]
  },
  {
   "cell_type": "markdown",
   "id": "2f00ad08",
   "metadata": {},
   "source": [
    "# Gerando PDF"
   ]
  },
  {
   "cell_type": "code",
   "execution_count": 6,
   "id": "91df4edd",
   "metadata": {},
   "outputs": [
    {
     "name": "stdout",
     "output_type": "stream",
     "text": [
      "Requirement already satisfied: fpdf in c:\\users\\amanda aiko\\anaconda3\\lib\\site-packages (1.7.2)\n"
     ]
    }
   ],
   "source": [
    "!pip install fpdf"
   ]
  },
  {
   "cell_type": "code",
   "execution_count": 8,
   "id": "3a04faf3",
   "metadata": {},
   "outputs": [],
   "source": [
    "from fpdf import FPDF"
   ]
  },
  {
   "cell_type": "code",
   "execution_count": 11,
   "id": "cb8607b8",
   "metadata": {},
   "outputs": [
    {
     "name": "stdout",
     "output_type": "stream",
     "text": [
      "Orçamento gerado com sucesso!\n"
     ]
    }
   ],
   "source": [
    "pdf = FPDF ()\n",
    "\n",
    "pdf.add_page()\n",
    "pdf.set_font(\"Arial\")\n",
    "\n",
    "pdf.image(\"template.png\", x = 0, y= 0)\n",
    "\n",
    "pdf.text (115,145, projeto)\n",
    "pdf.text (115, 160, horas_previstas)\n",
    "pdf.text (115, 175, valor_horas_trabalhadas)\n",
    "pdf.text (115,190,prazo)\n",
    "pdf.text (115,205, str (valor_total))\n",
    "\n",
    "pdf.output(\"Orçamento.pdf\")\n",
    "\n",
    "print(\"Orçamento gerado com sucesso!\")\n"
   ]
  },
  {
   "cell_type": "code",
   "execution_count": null,
   "id": "332de18b",
   "metadata": {},
   "outputs": [],
   "source": []
  },
  {
   "cell_type": "code",
   "execution_count": null,
   "id": "cffa90a8",
   "metadata": {},
   "outputs": [],
   "source": []
  },
  {
   "cell_type": "code",
   "execution_count": null,
   "id": "e9cf6106",
   "metadata": {},
   "outputs": [],
   "source": []
  }
 ],
 "metadata": {
  "kernelspec": {
   "display_name": "Python 3 (ipykernel)",
   "language": "python",
   "name": "python3"
  },
  "language_info": {
   "codemirror_mode": {
    "name": "ipython",
    "version": 3
   },
   "file_extension": ".py",
   "mimetype": "text/x-python",
   "name": "python",
   "nbconvert_exporter": "python",
   "pygments_lexer": "ipython3",
   "version": "3.11.5"
  }
 },
 "nbformat": 4,
 "nbformat_minor": 5
}
